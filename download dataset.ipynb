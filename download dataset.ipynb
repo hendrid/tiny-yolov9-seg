{
 "cells": [
  {
   "cell_type": "code",
   "execution_count": 1,
   "metadata": {},
   "outputs": [
    {
     "name": "stdout",
     "output_type": "stream",
     "text": [
      "loading Roboflow workspace...\n",
      "loading Roboflow project...\n"
     ]
    },
    {
     "name": "stderr",
     "output_type": "stream",
     "text": [
      "Downloading Dataset Version Zip in line-transmission-2 to yolov9:: 100%|██████████| 100222/100222 [00:06<00:00, 15540.22it/s]"
     ]
    },
    {
     "name": "stdout",
     "output_type": "stream",
     "text": [
      "\n"
     ]
    },
    {
     "name": "stderr",
     "output_type": "stream",
     "text": [
      "\n",
      "Extracting Dataset Version Zip to line-transmission-2 in yolov9:: 100%|██████████| 2476/2476 [00:00<00:00, 3776.82it/s]\n"
     ]
    }
   ],
   "source": [
    "# !pip install roboflow -q\n",
    "\n",
    "from roboflow import Roboflow\n",
    "rf = Roboflow(api_key=\"66ixZUZNnvcQIdKBSkOv\")\n",
    "project = rf.workspace(\"linetransmission\").project(\"line-transmission\")\n",
    "version = project.version(2)\n",
    "dataset = version.download(\"yolov9\")"
   ]
  },
  {
   "cell_type": "code",
   "execution_count": 9,
   "metadata": {},
   "outputs": [
    {
     "name": "stdout",
     "output_type": "stream",
     "text": [
      "C:\\Users\\user\\Hyolo\\YOLOV9\\yolov9seg_new\n"
     ]
    }
   ],
   "source": [
    "%cd C:\\Users\\user\\Hyolo\\YOLOV9\\yolov9seg_new\\"
   ]
  },
  {
   "cell_type": "code",
   "execution_count": 10,
   "metadata": {},
   "outputs": [
    {
     "name": "stdout",
     "output_type": "stream",
     "text": [
      " Volume in drive C is OS\n",
      " Volume Serial Number is 4E17-0833\n",
      "\n",
      " Directory of C:\\Users\\user\\Hyolo\\YOLOV9\\yolov9seg_new\n",
      "\n",
      "2024-07-12  04:13 PM    <DIR>          .\n",
      "2024-07-12  03:52 PM    <DIR>          ..\n",
      "2024-07-12  03:52 PM    <DIR>          .idea\n",
      "2024-07-12  04:13 PM    <DIR>          __pycache__\n",
      "2024-07-12  03:52 PM             6,267 benchmarks.py\n",
      "2024-07-12  03:52 PM    <DIR>          classify\n",
      "2024-07-12  03:52 PM    <DIR>          data\n",
      "2024-07-12  03:52 PM            12,240 detect.py\n",
      "2024-07-12  03:52 PM            12,270 detect_dual.py\n",
      "2024-07-12  03:52 PM             1,743 download dataset.ipynb\n",
      "2024-07-12  03:52 PM            32,341 export.py\n",
      "2024-07-12  03:52 PM    <DIR>          figure\n",
      "2024-07-12  03:52 PM             4,655 hubconf.py\n",
      "2024-07-12  03:52 PM            35,149 LICENSE.md\n",
      "2024-07-12  03:52 PM    <DIR>          models\n",
      "2024-07-12  03:52 PM    <DIR>          panoptic\n",
      "2024-07-12  03:52 PM            16,480 README.md\n",
      "2024-07-12  03:52 PM             1,073 requirements.txt\n",
      "2024-07-12  04:13 PM    <DIR>          runs\n",
      "2024-07-12  03:52 PM    <DIR>          scripts\n",
      "2024-07-12  03:52 PM    <DIR>          segment\n",
      "2024-07-12  03:52 PM    <DIR>          tools\n",
      "2024-07-12  03:52 PM            33,796 train.py\n",
      "2024-07-12  03:52 PM            34,312 train_dual.py\n",
      "2024-07-12  03:52 PM            33,829 train_triple.py\n",
      "2024-07-13  10:10 PM    <DIR>          transmission_line\n",
      "2024-07-12  03:52 PM    <DIR>          Transmission-Line-1\n",
      "2024-07-12  03:52 PM    <DIR>          utils\n",
      "2024-07-12  03:52 PM            19,481 val.py\n",
      "2024-07-12  03:52 PM            19,595 val_dual.py\n",
      "2024-07-12  03:52 PM            19,549 val_triple.py\n",
      "2024-07-13  10:10 PM    <DIR>          wandb\n",
      "              15 File(s)        282,780 bytes\n",
      "              17 Dir(s)  1,340,337,295,360 bytes free\n"
     ]
    }
   ],
   "source": [
    "%ls"
   ]
  },
  {
   "cell_type": "code",
   "execution_count": 11,
   "metadata": {},
   "outputs": [
    {
     "name": "stderr",
     "output_type": "stream",
     "text": [
      "\u001b[34m\u001b[1msegment\\val_dual: \u001b[0mdata=Transmission-Line-1/data.yaml, weights=['transmission_line/yolov9-c-dseg-new/weights/best.pt'], batch_size=8, imgsz=640, conf_thres=0.001, iou_thres=0.6, max_det=300, task=val, device=0, workers=8, single_cls=False, augment=False, verbose=False, save_txt=False, save_hybrid=False, save_conf=False, save_json=False, project=runs\\val-seg, name=exp, exist_ok=False, half=False, dnn=False\n",
      "YOLO  2024-7-12 Python-3.11.8 torch-2.0.1+cu117 CUDA:0 (NVIDIA GeForce RTX 4090, 24564MiB)\n",
      "\n",
      "Traceback (most recent call last):\n",
      "  File \"C:\\Users\\user\\Hyolo\\YOLOV9\\yolov9seg_new\\segment\\val_dual.py\", line 458, in <module>\n",
      "    main(opt)\n",
      "  File \"C:\\Users\\user\\Hyolo\\YOLOV9\\yolov9seg_new\\segment\\val_dual.py\", line 431, in main\n",
      "    run(**vars(opt))\n",
      "  File \"c:\\Users\\user\\anaconda3\\envs\\YoloV9\\Lib\\site-packages\\torch\\utils\\_contextlib.py\", line 115, in decorate_context\n",
      "    return func(*args, **kwargs)\n",
      "           ^^^^^^^^^^^^^^^^^^^^^\n",
      "  File \"C:\\Users\\user\\Hyolo\\YOLOV9\\yolov9seg_new\\segment\\val_dual.py\", line 160, in run\n",
      "    model = DetectMultiBackend(weights, device=device, dnn=dnn, data=data, fp16=half)\n",
      "            ^^^^^^^^^^^^^^^^^^^^^^^^^^^^^^^^^^^^^^^^^^^^^^^^^^^^^^^^^^^^^^^^^^^^^^^^^\n",
      "  File \"C:\\Users\\user\\Hyolo\\YOLOV9\\yolov9seg_new\\models\\common.py\", line 1122, in __init__\n",
      "    pt, jit, onnx, xml, engine, coreml, saved_model, pb, tflite, edgetpu, tfjs, paddle, triton = self._model_type(w)\n",
      "    ^^^^^^^^^^^^^^^^^^^^^^^^^^^^^^^^^^^^^^^^^^^^^^^^^^^^^^^^^^^^^^^^^^^^^^^^^^^^^^^^^^^^^^^^^^\n",
      "ValueError: too many values to unpack (expected 13)\n"
     ]
    }
   ],
   "source": [
    "!python segment/val_dual.py \\\n",
    "--batch-size 8 --img 640 --device 0 \\\n",
    "--data Transmission-Line-1/data.yaml \\\n",
    "--weights transmission_line/yolov9-c-dseg-new/weights/best.pt"
   ]
  },
  {
   "cell_type": "code",
   "execution_count": 12,
   "metadata": {},
   "outputs": [
    {
     "name": "stdout",
     "output_type": "stream",
     "text": [
      " Volume in drive C is OS\n",
      " Volume Serial Number is 4E17-0833\n",
      "\n",
      " Directory of C:\\Users\\user\\Hyolo\\YOLOV9\\yolov9seg_new\n",
      "\n",
      "2024-07-12  04:13 PM    <DIR>          .\n",
      "2024-07-12  03:52 PM    <DIR>          ..\n",
      "2024-07-12  03:52 PM    <DIR>          .idea\n",
      "2024-07-12  04:13 PM    <DIR>          __pycache__\n",
      "2024-07-12  03:52 PM             6,267 benchmarks.py\n",
      "2024-07-12  03:52 PM    <DIR>          classify\n",
      "2024-07-12  03:52 PM    <DIR>          data\n",
      "2024-07-12  03:52 PM            12,240 detect.py\n",
      "2024-07-12  03:52 PM            12,270 detect_dual.py\n",
      "2024-07-12  03:52 PM             1,743 download dataset.ipynb\n",
      "2024-07-12  03:52 PM            32,341 export.py\n",
      "2024-07-12  03:52 PM    <DIR>          figure\n",
      "2024-07-12  03:52 PM             4,655 hubconf.py\n",
      "2024-07-12  03:52 PM            35,149 LICENSE.md\n",
      "2024-07-12  03:52 PM    <DIR>          models\n",
      "2024-07-12  03:52 PM    <DIR>          panoptic\n",
      "2024-07-12  03:52 PM            16,480 README.md\n",
      "2024-07-12  03:52 PM             1,073 requirements.txt\n",
      "2024-07-12  04:13 PM    <DIR>          runs\n",
      "2024-07-12  03:52 PM    <DIR>          scripts\n",
      "2024-07-12  03:52 PM    <DIR>          segment\n",
      "2024-07-12  03:52 PM    <DIR>          tools\n",
      "2024-07-12  03:52 PM            33,796 train.py\n",
      "2024-07-12  03:52 PM            34,312 train_dual.py\n",
      "2024-07-12  03:52 PM            33,829 train_triple.py\n",
      "2024-07-13  10:10 PM    <DIR>          transmission_line\n",
      "2024-07-12  03:52 PM    <DIR>          Transmission-Line-1\n",
      "2024-07-12  03:52 PM    <DIR>          utils\n",
      "2024-07-12  03:52 PM            19,481 val.py\n",
      "2024-07-12  03:52 PM            19,595 val_dual.py\n",
      "2024-07-12  03:52 PM            19,549 val_triple.py\n",
      "2024-07-13  10:10 PM    <DIR>          wandb\n",
      "              15 File(s)        282,780 bytes\n",
      "              17 Dir(s)  1,340,338,454,528 bytes free\n"
     ]
    }
   ],
   "source": [
    "%ls"
   ]
  },
  {
   "cell_type": "code",
   "execution_count": null,
   "metadata": {},
   "outputs": [],
   "source": []
  }
 ],
 "metadata": {
  "kernelspec": {
   "display_name": "Yolo9Pro",
   "language": "python",
   "name": "python3"
  },
  "language_info": {
   "codemirror_mode": {
    "name": "ipython",
    "version": 3
   },
   "file_extension": ".py",
   "mimetype": "text/x-python",
   "name": "python",
   "nbconvert_exporter": "python",
   "pygments_lexer": "ipython3",
   "version": "3.11.8"
  }
 },
 "nbformat": 4,
 "nbformat_minor": 2
}
